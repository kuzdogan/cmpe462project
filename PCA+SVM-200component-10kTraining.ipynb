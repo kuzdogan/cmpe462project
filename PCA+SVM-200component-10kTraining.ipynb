{
 "cells": [
  {
   "cell_type": "code",
   "execution_count": 1,
   "metadata": {
    "collapsed": true
   },
   "outputs": [],
   "source": [
    "import pandas as pd\n",
    "import numpy as np\n"
   ]
  },
  {
   "cell_type": "code",
   "execution_count": 2,
   "metadata": {
    "collapsed": false
   },
   "outputs": [],
   "source": [
    "train = pd.read_csv('mnist_train.csv', header=None)\n",
    "labels = train.iloc[1:10000, 0]\n",
    "images = train.iloc[1:10000, 1:]\n",
    "\n",
    "test = pd.read_csv('mnist_train.csv', header=None)\n",
    "test_labels = test.iloc[:, 0]\n",
    "test_images = test.iloc[:, 1:]\n",
    "\n",
    "#convert from python list into numpy array i.e. 60k to 1 array with each column a 28x28 matrix\n",
    "#label = label.astype(np.uint8)\n",
    "#images = np.array(images).reshape((-1, 1, 28, 28)).astype(np.uint8)"
   ]
  },
  {
   "cell_type": "markdown",
   "metadata": {},
   "source": [
    "## PCA"
   ]
  },
  {
   "cell_type": "code",
   "execution_count": 3,
   "metadata": {
    "collapsed": false
   },
   "outputs": [],
   "source": [
    "from sklearn.decomposition import PCA\n",
    "\n",
    "COMPONENT_NUM = 200\n",
    "pca = PCA(n_components=COMPONENT_NUM, whiten=True)\n",
    "pca.fit(images)\n",
    "imagesPCA = pca.transform(images)\n"
   ]
  },
  {
   "cell_type": "code",
   "execution_count": 4,
   "metadata": {
    "collapsed": false
   },
   "outputs": [
    {
     "data": {
      "text/plain": [
       "array([ 0.10200956,  0.17416747,  0.23528078,  0.28943416,  0.33719989,\n",
       "        0.38133747,  0.41416718,  0.44344131,  0.47128721,  0.4943616 ,\n",
       "        0.51565863,  0.53620102,  0.55307212,  0.56987625,  0.58604374,\n",
       "        0.60143073,  0.61430599,  0.62694405,  0.63853103,  0.64980938,\n",
       "        0.6601494 ,  0.67022776,  0.67967143,  0.68890606,  0.6974559 ,\n",
       "        0.70588727,  0.71392231,  0.72167864,  0.72888255,  0.73573706,\n",
       "        0.74226852,  0.74856333,  0.75451338,  0.76039122,  0.76591175,\n",
       "        0.7712053 ,  0.77633961,  0.7811373 ,  0.78589229,  0.79056647,\n",
       "        0.79505849,  0.79924701,  0.80336196,  0.80737461,  0.81111415,\n",
       "        0.81474637,  0.81825234,  0.82171358,  0.82500515,  0.82826717,\n",
       "        0.83146935,  0.83462904,  0.83758441,  0.84044223,  0.84324461,\n",
       "        0.84594837,  0.84858997,  0.85111115,  0.85359769,  0.85603743,\n",
       "        0.85841495,  0.86074337,  0.86298018,  0.86517943,  0.86728367,\n",
       "        0.86932659,  0.87134553,  0.87329561,  0.87521949,  0.87709729,\n",
       "        0.87892609,  0.88067294,  0.8823949 ,  0.88407588,  0.88571294,\n",
       "        0.88730811,  0.88889354,  0.8904305 ,  0.89187991,  0.89330401,\n",
       "        0.89470415,  0.89610045,  0.89745127,  0.89879304,  0.90011537,\n",
       "        0.90140326,  0.90267406,  0.90389539,  0.905111  ,  0.90629868,\n",
       "        0.9074622 ,  0.90859572,  0.90969355,  0.91077348,  0.91183605,\n",
       "        0.91288855,  0.91392371,  0.9149258 ,  0.91590309,  0.91686571,\n",
       "        0.91780096,  0.91872315,  0.91963999,  0.9205389 ,  0.92143039,\n",
       "        0.92230869,  0.92317484,  0.9240188 ,  0.92485266,  0.92565975,\n",
       "        0.92646526,  0.92725364,  0.92802837,  0.92878216,  0.9295325 ,\n",
       "        0.93026556,  0.93099128,  0.93171278,  0.93241665,  0.93310881,\n",
       "        0.93379466,  0.93447623,  0.93514596,  0.93581223,  0.93645931,\n",
       "        0.93709672,  0.93772589,  0.93834743,  0.9389591 ,  0.93956308,\n",
       "        0.94015936,  0.94074466,  0.94132046,  0.94189157,  0.9424555 ,\n",
       "        0.94301628,  0.94357085,  0.94411195,  0.94463965,  0.94516298,\n",
       "        0.94567935,  0.94618697,  0.9466918 ,  0.94719133,  0.94768324,\n",
       "        0.9481648 ,  0.948641  ,  0.94910708,  0.94957005,  0.95002613,\n",
       "        0.9504793 ,  0.9509255 ,  0.9513694 ,  0.95180939,  0.95224604,\n",
       "        0.95267859,  0.95310418,  0.95352078,  0.9539318 ,  0.95433738,\n",
       "        0.95474088,  0.95514031,  0.9555345 ,  0.95592774,  0.95631668,\n",
       "        0.95669537,  0.95707182,  0.95744146,  0.9578088 ,  0.95816941,\n",
       "        0.958526  ,  0.95887924,  0.95922881,  0.95957707,  0.95991916,\n",
       "        0.96025971,  0.96059635,  0.96092946,  0.96125729,  0.96158333,\n",
       "        0.96190513,  0.96222409,  0.96254083,  0.96285639,  0.96316704,\n",
       "        0.96347422,  0.96377522,  0.96407562,  0.96437193,  0.96466412,\n",
       "        0.96495348,  0.96523619,  0.9655175 ,  0.96579764,  0.96607344,\n",
       "        0.96634524,  0.96661567,  0.96688214,  0.96714663,  0.96740777])"
      ]
     },
     "execution_count": 4,
     "metadata": {},
     "output_type": "execute_result"
    },
    {
     "data": {
      "image/png": "[encoded data removed]",
      "text/plain": [
       "<matplotlib.figure.Figure at 0x16897e08908>"
      ]
     },
     "metadata": {},
     "output_type": "display_data"
    }
   ],
   "source": [
    "import matplotlib.pyplot as plt\n",
    "%matplotlib inline\n",
    "\n",
    "var_explained = pca.explained_variance_ratio_.cumsum()\n",
    "plt.plot(var_explained)\n",
    "var_explained"
   ]
  },
  {
   "cell_type": "code",
   "execution_count": 5,
   "metadata": {
    "collapsed": false
   },
   "outputs": [
    {
     "data": {
      "text/plain": [
       "(9999, 200)"
      ]
     },
     "execution_count": 5,
     "metadata": {},
     "output_type": "execute_result"
    }
   ],
   "source": [
    "imagesPCA.shape"
   ]
  },
  {
   "cell_type": "code",
   "execution_count": 6,
   "metadata": {
    "collapsed": false
   },
   "outputs": [
    {
     "data": {
      "text/plain": [
       "SVC(C=1.0, cache_size=200, class_weight=None, coef0=0.0,\n",
       "  decision_function_shape=None, degree=3, gamma='auto', kernel='rbf',\n",
       "  max_iter=-1, probability=False, random_state=None, shrinking=True,\n",
       "  tol=0.001, verbose=False)"
      ]
     },
     "execution_count": 6,
     "metadata": {},
     "output_type": "execute_result"
    }
   ],
   "source": [
    "from sklearn.svm import SVC\n",
    "\n",
    "svc = SVC()\n",
    "svc.fit(imagesPCA, labels)"
   ]
  },
  {
   "cell_type": "code",
   "execution_count": 7,
   "metadata": {
    "collapsed": false
   },
   "outputs": [],
   "source": [
    "test_imagesPCA = pca.transform(test_images)\n",
    "test_predict = svc.predict(test_imagesPCA)"
   ]
  },
  {
   "cell_type": "code",
   "execution_count": 8,
   "metadata": {
    "collapsed": false
   },
   "outputs": [
    {
     "data": {
      "text/plain": [
       "(60000,)"
      ]
     },
     "execution_count": 8,
     "metadata": {},
     "output_type": "execute_result"
    }
   ],
   "source": [
    "test_predict.shape"
   ]
  },
  {
   "cell_type": "code",
   "execution_count": 9,
   "metadata": {
    "collapsed": false
   },
   "outputs": [
    {
     "data": {
      "text/plain": [
       "0.9513166666666667"
      ]
     },
     "execution_count": 9,
     "metadata": {},
     "output_type": "execute_result"
    }
   ],
   "source": [
    "from sklearn import  metrics\n",
    "from sklearn.metrics import accuracy_score\n",
    "#accuracy and confusion matrix\n",
    "\n",
    "print(\"Classification report for classifier %s:\\n%s\\n\"\n",
    "      % (svc, metrics.classification_report(test_labels, test_predict)))\n",
    "print(\"Confusion matrix:\\n%s\" % metrics.confusion_matrix(test_labels, test_predict))\n",
    "\n",
    "accuracy_score(test_labels, test_predict)"
   ]
  },
  {
   "cell_type": "code",
   "execution_count": null,
   "metadata": {
    "collapsed": true
   },
   "outputs": [],
   "source": []
  }
 ],
 "metadata": {
  "kernelspec": {
   "display_name": "Python 3",
   "language": "python",
   "name": "python3"
  },
  "language_info": {
   "codemirror_mode": {
    "name": "ipython",
    "version": 3
   },
   "file_extension": ".py",
   "mimetype": "text/x-python",
   "name": "python",
   "nbconvert_exporter": "python",
   "pygments_lexer": "ipython3",
   "version": "3.6.0"
  }
 },
 "nbformat": 4,
 "nbformat_minor": 2
}
