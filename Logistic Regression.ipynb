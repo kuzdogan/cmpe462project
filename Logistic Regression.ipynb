{
 "cells": [
  {
   "cell_type": "code",
   "execution_count": 2,
   "metadata": {
    "collapsed": true
   },
   "outputs": [],
   "source": [
    "import pandas as pd\n",
    "import numpy as np\n"
   ]
  },
  {
   "cell_type": "code",
   "execution_count": 3,
   "metadata": {
    "collapsed": false
   },
   "outputs": [],
   "source": [
    "train = pd.read_csv('mnist_train.csv', header=None)\n",
    "labels = train.iloc[1:5000, 0]\n",
    "images = train.iloc[1:5000, 1:]\n",
    "\n",
    "test = pd.read_csv('mnist_train.csv', header=None)\n",
    "test_labels = test.iloc[:, 0]\n",
    "test_images = test.iloc[:, 1:]\n",
    "\n",
    "#convert from python list into numpy array i.e. 60k to 1 array with each column a 28x28 matrix\n",
    "#label = label.astype(np.uint8)\n",
    "#images = np.array(images).reshape((-1, 1, 28, 28)).astype(np.uint8)"
   ]
  },
  {
   "cell_type": "code",
   "execution_count": 4,
   "metadata": {
    "collapsed": false
   },
   "outputs": [
    {
     "data": {
      "text/plain": [
       "LogisticRegression(C=1.0, class_weight=None, dual=False, fit_intercept=True,\n",
       "          intercept_scaling=1, max_iter=100, multi_class='ovr', n_jobs=1,\n",
       "          penalty='l2', random_state=None, solver='liblinear', tol=0.0001,\n",
       "          verbose=0, warm_start=False)"
      ]
     },
     "execution_count": 4,
     "metadata": {},
     "output_type": "execute_result"
    }
   ],
   "source": [
    "from sklearn.linear_model import LogisticRegression\n",
    "\n",
    "lr = LogisticRegression()\n",
    "lr.fit(images, labels)"
   ]
  },
  {
   "cell_type": "code",
   "execution_count": 7,
   "metadata": {
    "collapsed": true
   },
   "outputs": [],
   "source": [
    "test_predict = lr.predict(test_images)"
   ]
  },
  {
   "cell_type": "code",
   "execution_count": 8,
   "metadata": {
    "collapsed": false
   },
   "outputs": [
    {
     "name": "stdout",
     "output_type": "stream",
     "text": [
      "Classification report for classifier LogisticRegression(C=1.0, class_weight=None, dual=False, fit_intercept=True,\n",
      "          intercept_scaling=1, max_iter=100, multi_class='ovr', n_jobs=1,\n",
      "          penalty='l2', random_state=None, solver='liblinear', tol=0.0001,\n",
      "          verbose=0, warm_start=False):\n",
      "             precision    recall  f1-score   support\n",
      "\n",
      "          0       0.91      0.91      0.91      5923\n",
      "          1       0.93      0.95      0.94      6742\n",
      "          2       0.84      0.81      0.83      5958\n",
      "          3       0.79      0.81      0.80      6131\n",
      "          4       0.84      0.83      0.84      5842\n",
      "          5       0.83      0.76      0.79      5421\n",
      "          6       0.91      0.90      0.91      5918\n",
      "          7       0.85      0.84      0.85      6265\n",
      "          8       0.73      0.77      0.75      5851\n",
      "          9       0.70      0.75      0.73      5949\n",
      "\n",
      "avg / total       0.84      0.84      0.84     60000\n",
      "\n",
      "\n",
      "Confusion matrix:\n",
      "[[5404    1  106   64    7   53   54   19  103  112]\n",
      " [  11 6378   54   47    9   34   14   28  135   32]\n",
      " [  56   91 4847  292   73   35  131   92  273   68]\n",
      " [  75   54  149 4976   40  273   48   88  320  108]\n",
      " [  25   21   54   50 4850   23   67   45  140  567]\n",
      " [ 106   42   81  333  100 4106  124   46  311  172]\n",
      " [  66   20  151   16   92  151 5314   10   73   25]\n",
      " [  24   34   86  126   63   15    3 5290   75  549]\n",
      " [  91  167  156  248  109  199   63   86 4488  244]\n",
      " [  64   37   53  123  401   75    5  505  221 4465]]\n"
     ]
    },
    {
     "data": {
      "text/plain": [
       "0.83530000000000004"
      ]
     },
     "execution_count": 8,
     "metadata": {},
     "output_type": "execute_result"
    }
   ],
   "source": [
    "from sklearn import  metrics\n",
    "from sklearn.metrics import accuracy_score\n",
    "#accuracy and confusion matrix\n",
    "\n",
    "print(\"Classification report for classifier %s:\\n%s\\n\"\n",
    "      % (lr, metrics.classification_report(test_labels, test_predict)))\n",
    "print(\"Confusion matrix:\\n%s\" % metrics.confusion_matrix(test_labels, test_predict))\n",
    "\n",
    "accuracy_score(test_labels, test_predict)"
   ]
  },
  {
   "cell_type": "code",
   "execution_count": 15,
   "metadata": {
    "collapsed": false
   },
   "outputs": [
    {
     "data": {
      "text/plain": [
       "LogisticRegressionCV(Cs=10, class_weight=None, cv=None, dual=False,\n",
       "           fit_intercept=True, intercept_scaling=1.0, max_iter=100,\n",
       "           multi_class='ovr', n_jobs=1, penalty='l2', random_state=None,\n",
       "           refit=True, scoring=None, solver='lbfgs', tol=0.0001, verbose=0)"
      ]
     },
     "execution_count": 15,
     "metadata": {},
     "output_type": "execute_result"
    }
   ],
   "source": [
    "from sklearn.linear_model import LogisticRegressionCV\n",
    "\n",
    "lrCV = LogisticRegressionCV()\n",
    "lrCV.fit(images, labels)"
   ]
  },
  {
   "cell_type": "code",
   "execution_count": 16,
   "metadata": {
    "collapsed": true
   },
   "outputs": [],
   "source": [
    "test_predict = lrCV.predict(test_images)"
   ]
  },
  {
   "cell_type": "code",
   "execution_count": 17,
   "metadata": {
    "collapsed": false
   },
   "outputs": [
    {
     "name": "stdout",
     "output_type": "stream",
     "text": [
      "Classification report for classifier LogisticRegressionCV(Cs=10, class_weight=None, cv=None, dual=False,\n",
      "           fit_intercept=True, intercept_scaling=1.0, max_iter=100,\n",
      "           multi_class='ovr', n_jobs=1, penalty='l2', random_state=None,\n",
      "           refit=True, scoring=None, solver='lbfgs', tol=0.0001, verbose=0):\n",
      "             precision    recall  f1-score   support\n",
      "\n",
      "          0       0.95      0.96      0.95      5923\n",
      "          1       0.94      0.96      0.95      6742\n",
      "          2       0.89      0.85      0.87      5958\n",
      "          3       0.85      0.85      0.85      6131\n",
      "          4       0.89      0.91      0.90      5842\n",
      "          5       0.86      0.80      0.83      5421\n",
      "          6       0.93      0.93      0.93      5918\n",
      "          7       0.90      0.90      0.90      6265\n",
      "          8       0.80      0.82      0.81      5851\n",
      "          9       0.84      0.85      0.84      5949\n",
      "\n",
      "avg / total       0.88      0.88      0.88     60000\n",
      "\n",
      "\n",
      "Confusion matrix:\n",
      "[[5668    0   42   34   13   28   52   16   51   19]\n",
      " [   6 6494   38   31    8   17   12   18  109    9]\n",
      " [  21   84 5063  195   56   33  112   99  247   48]\n",
      " [  34   45  149 5236   13  251   30   77  217   79]\n",
      " [   8   19   33   21 5313   17   55   35   99  242]\n",
      " [  92   32   55  287   93 4319  117   35  290  101]\n",
      " [  56   22   87    4   80   93 5514    8   47    7]\n",
      " [  21   32   82   54   61    8    4 5646   34  323]\n",
      " [  46  156  100  216   92  191   57   58 4775  160]\n",
      " [  28   27   40   96  266   54    3  272   95 5068]]\n"
     ]
    },
    {
     "data": {
      "text/plain": [
       "0.88493333333333335"
      ]
     },
     "execution_count": 17,
     "metadata": {},
     "output_type": "execute_result"
    }
   ],
   "source": [
    "print(\"Classification report for classifier %s:\\n%s\\n\"\n",
    "      % (lrCV, metrics.classification_report(test_labels, test_predict)))\n",
    "print(\"Confusion matrix:\\n%s\" % metrics.confusion_matrix(test_labels, test_predict))\n",
    "\n",
    "accuracy_score(test_labels, test_predict)"
   ]
  },
  {
   "cell_type": "code",
   "execution_count": null,
   "metadata": {
    "collapsed": true
   },
   "outputs": [],
   "source": []
  }
 ],
 "metadata": {
  "kernelspec": {
   "display_name": "Python 3",
   "language": "python",
   "name": "python3"
  },
  "language_info": {
   "codemirror_mode": {
    "name": "ipython",
    "version": 3
   },
   "file_extension": ".py",
   "mimetype": "text/x-python",
   "name": "python",
   "nbconvert_exporter": "python",
   "pygments_lexer": "ipython3",
   "version": "3.6.0"
  }
 },
 "nbformat": 4,
 "nbformat_minor": 2
}
